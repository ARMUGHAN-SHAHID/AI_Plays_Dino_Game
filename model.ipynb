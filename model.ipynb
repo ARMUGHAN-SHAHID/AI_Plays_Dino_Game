{
 "cells": [
  {
   "cell_type": "code",
   "execution_count": 1,
   "metadata": {},
   "outputs": [
    {
     "name": "stderr",
     "output_type": "stream",
     "text": [
      "C:\\Users\\Armughan.Shahid\\AppData\\Local\\Continuum\\anaconda3\\lib\\site-packages\\h5py\\__init__.py:36: FutureWarning: Conversion of the second argument of issubdtype from `float` to `np.floating` is deprecated. In future, it will be treated as `np.float64 == np.dtype(float).type`.\n",
      "  from ._conv import register_converters as _register_converters\n"
     ]
    }
   ],
   "source": [
    "import numpy as np\n",
    "import tensorflow as tf\n",
    "import matplotlib.pyplot as plt"
   ]
  },
  {
   "cell_type": "code",
   "execution_count": null,
   "metadata": {},
   "outputs": [],
   "source": [
    "class CNN_Model():\n",
    "    def __init__(self,params):\n",
    "        input_shape=params['input_shape']\n",
    "        num_outputs=params['num_outputs']\n",
    "        fully_connected_hierarchy=params['fc-hierarchy']\n",
    "        conv_hierarchy=params['conv_hierarchy']\n",
    "        activation_fn=params.get('activation_fn',tf.nn.relu)\n",
    "        loss_fn=params.get('loss_fn',tf.losses.softmax_cross_entropy)\n",
    "        learning_rate=params['learning_rate']\n",
    "        optimizer_fn=params['optimizer_fn']\n",
    "#         logdir=params['logdir']\n",
    "        self.form_model()\n",
    "    def form_placeholders(self,input_shape,dt=tf.float32):\n",
    "        X=tf.placeholder(dt,shape=input_shape)\n",
    "        return X\n",
    "    def form_convolutional_heirarchy(self,inputs,initializer):\n",
    "        layer_input=inputs\n",
    "        for layer in self.conv_hierachy:\n",
    "            if layer['layer_type']=='conv_layer':\n",
    "                layer_output=tf.layers.conv2d(\n",
    "                        inputs=layer_input,\n",
    "                        filters=layer['num_filters'],\n",
    "                        kernel_size=layer['kernel_size'],\n",
    "                        strides=layer['kernel_strides'],\n",
    "                        padding=layer['padding'],\n",
    "                        kernel_initializer=initializer,\n",
    "                        activation=self.activation_fn\n",
    "                )\n",
    "                layer_input=layer_output\n",
    "            elif layer['layer_type']=='pool_layer':\n",
    "                layer_output=tf.layers.max_pooling2d(\n",
    "                        inputs=layer_input,\n",
    "                        pool_size=layer['pool_size'],\n",
    "                        strides=layer['pool_strides'])\n",
    "                layer_input=layer_output\n",
    "        return layer_output\n",
    "    \n",
    "    def form_fc_layers(self,inputs,initializer):\n",
    "        layer_inputs=inputs\n",
    "        for num_neurons in self.fc_hierarchy:\n",
    "            layer_outputs=tf.layers.dense(layer_inputs,num_neurons,activation=self.activation_fn,kernel_initializer=initializer)\n",
    "            layer_inputs=layer_outputs\n",
    "        return layer_outputs\n",
    "    def form_loss(self,logits,targets):\n",
    "        entropies=self.loss_fn(onehot_labels=targets,logits=logits)\n",
    "        return entropies\n",
    "    \n",
    "    def form_model(self):\n",
    "        initializer_fn=tf.contrib.layers.variance_scaling_initializer()\n",
    "        self.X=form_placeholders(input_shape)\n",
    "        self.Y=form_placeholders((1,self.num_outputs),tf.int32)\n",
    "        conv_output=form_convolutional_heirarchy(self.X,initializer_fn)\n",
    "        \n",
    "        flat_conv_output=tf.contrib.layers.flatten(conv_output)\n",
    "        \n",
    "        last_fc_output=form_fc_layers(flat_conv_output,initializer_fn)\n",
    "        \n",
    "        logits=tf.layers.dense(last_fc_output,self.num_outputs,kernel_initializer=initializer_fn)\n",
    "        self.logits=logits\n",
    "#         self.outputs=tf.nn.softmax(self.logits)\n",
    "#         self.action=tf.multinomial(tf.log(self.outputs),num_samples=1)\n",
    "        \n",
    "#         targets=self.action[:][0]\n",
    "        \n",
    "        self.entropies=form_loss(logits,targets,loss_fn)\n",
    "        "
   ]
  },
  {
   "cell_type": "code",
   "execution_count": null,
   "metadata": {},
   "outputs": [],
   "source": [
    "params={\n",
    "    'input_shape':[None,*input_shape],\n",
    "    'num_outputs':env.action_space.n,\n",
    "    'num_neurons':[50],\n",
    "    'conv_hierarchy':[\n",
    "        {'layer_type':'conv_layer','kernel_size':4,'kernel_strides':1,'num_filters':5,'padding':'valid'},\n",
    "#         {'layer_type':'pool_layer','pool_size':3,'pool_strides':1},\n",
    "        {'layer_type':'conv_layer','kernel_size':4,'kernel_strides':1,'num_filters':10,'padding':'valid'},\n",
    "        \n",
    "#         {'layer_type':'conv_layer','kernel_size':3,'kernel_strides':1,'num_filters':10,'padding':'valid'},\n",
    "#         {'layer_type':'pool_layer','pool_size':3,'pool_strides':1}\n",
    "       \n",
    "    ],\n",
    "    'activation_fn':tf.nn.relu,\n",
    "    'loss_fn':tf.nn.sparse_softmax_cross_entropy_with_logits,\n",
    "    'learning_rate':0.01,\n",
    "    'optimizer_fn':tf.train.AdamOptimizer,\n",
    "    'logdir':'/tf_logs_rnn/run/'\n",
    "}"
   ]
  }
 ],
 "metadata": {
  "kernelspec": {
   "display_name": "Python 3",
   "language": "python",
   "name": "python3"
  },
  "language_info": {
   "codemirror_mode": {
    "name": "ipython",
    "version": 3
   },
   "file_extension": ".py",
   "mimetype": "text/x-python",
   "name": "python",
   "nbconvert_exporter": "python",
   "pygments_lexer": "ipython3",
   "version": "3.6.5"
  }
 },
 "nbformat": 4,
 "nbformat_minor": 2
}
