{
 "cells": [
  {
   "cell_type": "code",
   "execution_count": 2,
   "metadata": {},
   "outputs": [],
   "source": [
    "import tensorflow as tf\n",
    "import os \n",
    "import numpy as np\n",
    "import pandas as pd\n",
    "from model import CNN_Model"
   ]
  },
  {
   "cell_type": "code",
   "execution_count": 3,
   "metadata": {},
   "outputs": [],
   "source": [
    "class Policy_Network(CNN_Model):\n",
    "    def __init__(self,param_dict={},restore_params=False,pickle_file_path=\"\"):\n",
    "        CNN_Model.__init__(self,param_dict={},restore_params=False,pickle_file_path=\"\")\n",
    "        \n",
    "    def form_loss(self,logits,targets):\n",
    "        entropies=self.params.loss_fn(labels=targets,logits=logits)\n",
    "        return entropies\n",
    "        \n",
    "    def Build_model(self):\n",
    "        self.build_model_till_logits()\n",
    "        with tf.variable_scope(self.params.name_scope):\n",
    "            \n",
    "#             self.Advantage=self.form_placeholder((None,1),tf.float32)\n",
    "            self.probs_all_actions=tf.nn.softmax(self.logits)#converting to probs\n",
    "            log_likelihood_all_actions=tf.log(self.probs_all_actions)\n",
    "        \n",
    "            #which action to take\n",
    "            self.desired_action=tf.multinomial(log_likelihood_all_actions,num_samples=1)\n",
    "\n",
    "#           we will be using sparse softmax cross entropy function which will give us neg ;p likelihoods for yje selected action\n",
    "            self.neg_log_likelihood=self.form_loss(self.logits,self.desired_action[:][0])\n",
    "           #computing gradients \n",
    "            optimizer=self.params.optimizer_fn(learning_rate=self.lr_placeholder)\n",
    "            self.grads_and_vars=optimizer.compute_gradients(loss=self.neg_log_likelihood,var_list=self.model_variables)\n",
    "            \n",
    "            \n",
    "#             #for easy manipulation of grads\n",
    "            self.grads=np.array([grad for grad,var_name in self.grads_and_vars])\n",
    "            \n",
    "#             #placeholder for all gradients (list of placeholder and var name tuples)\n",
    "            self.grad_placeholders=[self.form_placeholder(grad.get_shape(),tf.float32) for grad,_ in self.grads_and_vars]\n",
    "            self.grads_and_vars_feed=[(self.grad_placeholders[i],self.grads_and_vars[i][1]) for i in np.arange(len(self.grads_and_vars)) ]\n",
    "            #linking placeholder and var name\n",
    "            \n",
    "#             #taking grad step based on the values of grads received \n",
    "            self.train_op=optimizer.apply_gradients(grads_and_vars=self.grads_and_vars_feed,global_step=self.step_no)\n",
    "            \n",
    "            #pandas implementation\n",
    "#             grads_and_vars_tuples=optimizer.compute_gradients(loss=self.neg_log_likelihood,var_list=self.model_variables)\n",
    "#             self.grads_and_vars=pd.DataFrame(grads_and_vars_tuples,columns=[\"grad\",\"var_name\"])\n",
    "            \n",
    "#             self.grads_and_vars_feed=self.grads_and_vars\n",
    "#             sef\n",
    "            self.initializer=tf.global_variables_initializer()"
   ]
  },
  {
   "cell_type": "code",
   "execution_count": null,
   "metadata": {},
   "outputs": [],
   "source": []
  }
 ],
 "metadata": {
  "kernelspec": {
   "display_name": "Python 3",
   "language": "python",
   "name": "python3"
  },
  "language_info": {
   "codemirror_mode": {
    "name": "ipython",
    "version": 3
   },
   "file_extension": ".py",
   "mimetype": "text/x-python",
   "name": "python",
   "nbconvert_exporter": "python",
   "pygments_lexer": "ipython3",
   "version": "3.6.5"
  }
 },
 "nbformat": 4,
 "nbformat_minor": 2
}
