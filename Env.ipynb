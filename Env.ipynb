{
 "cells": [
  {
   "cell_type": "code",
   "execution_count": 2,
   "metadata": {},
   "outputs": [],
   "source": [
    "import numpy as np\n",
    "import gym\n",
    "import cv2"
   ]
  },
  {
   "cell_type": "code",
   "execution_count": 3,
   "metadata": {},
   "outputs": [],
   "source": [
    "class Env:\n",
    "    def __init__(self,env_name,convert_to_grayscale=True,crop=True,valid_Y=[0,-1],valid_X=[0,-1],resize=False,resize_Y=None,resize_X=None,normalize=True,num_of_frames_per_stack=1):\n",
    "        \n",
    "        self.steps=0\n",
    "        self.env_name=env_name\n",
    "        self.env=gym.make(self.env_name)\n",
    "        self.convert_to_grayscale=convert_to_grayscale\n",
    "        self.crop=crop\n",
    "        self.valid_Y=valid_Y\n",
    "        self.valid_X=valid_X\n",
    "        self.resize=resize\n",
    "        self.resize_Y=resize_Y\n",
    "        self.resize_X=resize_X\n",
    "        self.normalize=normalize\n",
    "        self.action_space=self.env.action_space.n\n",
    "        \n",
    "        self.num_of_frames_per_stack=num_of_frames_per_stack\n",
    "        self.frame_stack=None\n",
    "        \n",
    "        self.done=False\n",
    "        self.image_shape=self.reset().shape\n",
    "        self.done=True\n",
    "    def preprocess(self,frame):\n",
    "        if self.convert_to_grayscale:\n",
    "            frame=cv2.cvtColor(frame, cv2.COLOR_BGR2GRAY)\n",
    "            \n",
    "#         state=state[40:-10,10:]\n",
    "        if self.crop:\n",
    "            frame=frame[self.valid_Y[0]:self.valid_Y[1],self.valid_X[0]:self.valid_X[1]]\n",
    "        \n",
    "        if self.resize:\n",
    "            frame=cv2.resize(frame,(self.resize_X,self.resize_Y))\n",
    "            \n",
    "        if self.normalize:\n",
    "            frame=frame/255.0\n",
    "            \n",
    "#         state=np.expand_dims(state,axis=-1)\n",
    "#         print (state.shape)\n",
    "        return frame\n",
    "    \n",
    "    def reset(self):\n",
    "        print (\"Resetting Environment...\\n\")\n",
    "        frame=self.env.reset()\n",
    "        frame=self.preprocess(frame)\n",
    "        self.steps=0\n",
    "        self.done=False\n",
    "        \n",
    "        self.frame_stack=np.stack((frame  for i in np.arange(self.num_of_frames_per_stack)),axis=2)\n",
    "        return self.frame_stack       \n",
    "    \n",
    "    def step(self,action):\n",
    "        if not self.done:\n",
    "            next_frame,reward,self.done,info=self.env.step(action)\n",
    "            next_frame=self.preprocess(next_frame)\n",
    "            self.steps+=1\n",
    "#             print('stepping')\n",
    "#             cv2.imshow(\"Over the Clouds - gray\", next_state)\n",
    "#             cv2.waitKey(0)\n",
    "            next_frame=np.expand_dims(next_frame,axis=-1)\n",
    "            self.frame_stack=np.append(next_frame,self.frame_stack[:,:,:-1],axis=-1)\n",
    "            return self.frame_stack,reward,self.done,info\n",
    "        else:\n",
    "            print (\"episode finished.Try Resetting the environment.Returning null values\\n\")\n",
    "            return None,None,None,None\n",
    "        \n",
    "    def render(self):\n",
    "#         cv2.imshow(\"Over the Clouds - gray\", gray_image)\n",
    "        self.env.render()\n",
    "    def close(self):\n",
    "        self.env.close()\n",
    "        \n",
    "    def __del__(self):\n",
    "        self.close()"
   ]
  },
  {
   "cell_type": "code",
   "execution_count": 7,
   "metadata": {
    "collapsed": true
   },
   "outputs": [
    {
     "name": "stdout",
     "output_type": "stream",
     "text": [
      "Resetting Environment...\n",
      "\n",
      "(180, 140, 4)\n",
      "6\n",
      "6\n",
      "Resetting Environment...\n",
      "\n",
      "img shape=(180, 140, 4)\n",
      "next_stack shape=(180, 140, 4)\n",
      "next_stack shape=(180, 140, 4)\n",
      "next_stack shape=(180, 140, 4)\n",
      "next_stack shape=(180, 140, 4)\n",
      "next_stack shape=(180, 140, 4)\n",
      "next_stack shape=(180, 140, 4)\n",
      "next_stack shape=(180, 140, 4)\n",
      "next_stack shape=(180, 140, 4)\n",
      "next_stack shape=(180, 140, 4)\n",
      "next_stack shape=(180, 140, 4)\n"
     ]
    },
    {
     "name": "stderr",
     "output_type": "stream",
     "text": [
      "c:\\users\\armughan.shahid\\gym\\gym\\__init__.py:22: UserWarning: DEPRECATION WARNING: to improve load times, gym no longer automatically loads gym.spaces. Please run \"import gym.spaces\" to load gym.spaces on your own. This warning will turn into an error in a future version of gym.\n",
      "  warnings.warn('DEPRECATION WARNING: to improve load times, gym no longer automatically loads gym.spaces. Please run \"import gym.spaces\" to load gym.spaces on your own. This warning will turn into an error in a future version of gym.')\n"
     ]
    }
   ],
   "source": [
    "# # # convert_to_grayscale=True,crop=True,valid_Y=[0,-1],valid_X=[0,-1],resize=False,resize_Y=None,resize_X=None\n",
    "# env=Env('SpaceInvaders-v0',convert_to_grayscale=True,crop=True,valid_Y=[20,-10],valid_X=[10,-10],resize=False,resize_Y=140,resize_X=100,normalize=True,num_of_frames_per_stack=4)\n",
    "# print (env.image_shape)\n",
    "# print (env.action_space)\n",
    "# a_nums=env.action_space\n",
    "# print (int(a_nums))\n",
    "# img=env.reset()\n",
    "# print(\"img shape={}\".format(img.shape))\n",
    "# for i in np.arange(10):\n",
    "# #     env.render()\n",
    "#     ns,r,d,i=env.step(2)\n",
    "#     print('next_stack shape={}'.format(ns.shape))\n",
    "#     if d:\n",
    "#         env.reset()\n",
    "# env.close()\n",
    "# cv2.destroyAllWindows()\n",
    "     "
   ]
  },
  {
   "cell_type": "code",
   "execution_count": 13,
   "metadata": {
    "collapsed": true
   },
   "outputs": [
    {
     "name": "stdout",
     "output_type": "stream",
     "text": [
      "[[0 1]\n",
      " [2 3]\n",
      " [4 5]]\n",
      "[[ 6  7]\n",
      " [ 8  9]\n",
      " [10 11]]\n",
      "[[12 13]\n",
      " [14 15]\n",
      " [16 17]]\n",
      "[[[ 0  6]\n",
      "  [ 1  7]]\n",
      "\n",
      " [[ 2  8]\n",
      "  [ 3  9]]\n",
      "\n",
      " [[ 4 10]\n",
      "  [ 5 11]]]\n",
      "[[[ 0  6 12]\n",
      "  [ 1  7 13]]\n",
      "\n",
      " [[ 2  8 14]\n",
      "  [ 3  9 15]]\n",
      "\n",
      " [[ 4 10 16]\n",
      "  [ 5 11 17]]]\n"
     ]
    }
   ],
   "source": [
    "# d=deque()\n",
    "# a=np.arange(6).reshape(3,2)\n",
    "# b=np.arange(6,12).reshape(3,2)\n",
    "# c=np.arange(12,18).reshape(3,2)\n",
    "# print(a)\n",
    "# print(b)\n",
    "# print(c)\n",
    "# d=np.stack((a,b),axis=2)\n",
    "# print(d)\n",
    "# e=np.append(d,np.expand_dims(c,axis=-1),axis=2)\n",
    "# print (e)"
   ]
  }
 ],
 "metadata": {
  "kernelspec": {
   "display_name": "Python 3",
   "language": "python",
   "name": "python3"
  },
  "language_info": {
   "codemirror_mode": {
    "name": "ipython",
    "version": 3
   },
   "file_extension": ".py",
   "mimetype": "text/x-python",
   "name": "python",
   "nbconvert_exporter": "python",
   "pygments_lexer": "ipython3",
   "version": "3.6.5"
  }
 },
 "nbformat": 4,
 "nbformat_minor": 2
}
