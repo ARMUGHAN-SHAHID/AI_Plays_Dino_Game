{
 "cells": [
  {
   "cell_type": "code",
   "execution_count": 26,
   "metadata": {},
   "outputs": [],
   "source": [
    "import numpy as np\n",
    "import gym\n",
    "import cv2"
   ]
  },
  {
   "cell_type": "code",
   "execution_count": 12,
   "metadata": {},
   "outputs": [],
   "source": [
    "class Env:\n",
    "    def __init__(self,env_name,convert_to_grayscale=True,crop=True,valid_Y=[0,-1],valid_X=[0,-1],resize=False,resize_Y=None,resize_X=None,normalize=True):\n",
    "        \n",
    "        self.steps=0\n",
    "        self.env_name=env_name\n",
    "        self.env=gym.make(self.env_name)\n",
    "        self.convert_to_grayscale=convert_to_grayscale\n",
    "        self.crop=crop\n",
    "        self.valid_Y=valid_Y\n",
    "        self.valid_X=valid_X\n",
    "        self.resize=resize\n",
    "        self.resize_Y=resize_Y\n",
    "        self.resize_X=resize_X\n",
    "        self.normalize=normalize\n",
    "        self.action_space=self.env.action_space.n\n",
    "    \n",
    "        \n",
    "        self.done=False\n",
    "        self.image_shape=self.reset().shape\n",
    "        self.done=True\n",
    "    def preprocess(self,state):\n",
    "        if self.convert_to_grayscale:\n",
    "            state=cv2.cvtColor(state, cv2.COLOR_BGR2GRAY)\n",
    "            \n",
    "#         state=state[40:-10,10:]\n",
    "        if self.crop:\n",
    "            state=state[self.valid_Y[0]:self.valid_Y[1],self.valid_X[0]:self.valid_X[1]]\n",
    "        \n",
    "        if self.resize:\n",
    "            state=cv2.resize(state,(self.resize_X,self.resize_Y))\n",
    "            \n",
    "        if self.normalize:\n",
    "            state=state/255.0\n",
    "            \n",
    "        state=np.expand_dims(state,axis=-1)\n",
    "#         print (state.shape)\n",
    "        return state\n",
    "    \n",
    "    def reset(self):\n",
    "        print (\"Resetting Environment...\\n\")\n",
    "        state=self.env.reset()\n",
    "        state=self.preprocess(state)\n",
    "        self.steps=0\n",
    "        self.done=False\n",
    "        return state       \n",
    "    \n",
    "    def step(self,action):\n",
    "        if not self.done:\n",
    "            next_state,reward,self.done,info=self.env.step(action)\n",
    "            next_state=self.preprocess(next_state)\n",
    "            self.steps+=1\n",
    "#             print('stepping')\n",
    "#             cv2.imshow(\"Over the Clouds - gray\", next_state)\n",
    "#             cv2.waitKey(0)\n",
    "            return next_state,reward,self.done,info\n",
    "        else:\n",
    "            print (\"episode finished.Try Resetting the environment.Returning null values\\n\")\n",
    "            return None,None,None,None\n",
    "    def render(self):\n",
    "#         cv2.imshow(\"Over the Clouds - gray\", gray_image)\n",
    "        self.env.render()\n",
    "    def close(self):\n",
    "        self.env.close()\n",
    "        \n",
    "    def __del__(self):\n",
    "        self.close()"
   ]
  },
  {
   "cell_type": "code",
   "execution_count": 19,
   "metadata": {},
   "outputs": [
    {
     "name": "stdout",
     "output_type": "stream",
     "text": [
      "(180, 140, 1)\n",
      "Discrete(6)\n"
     ]
    },
    {
     "name": "stderr",
     "output_type": "stream",
     "text": [
      "c:\\users\\armughan.shahid\\gym\\gym\\__init__.py:22: UserWarning: DEPRECATION WARNING: to improve load times, gym no longer automatically loads gym.spaces. Please run \"import gym.spaces\" to load gym.spaces on your own. This warning will turn into an error in a future version of gym.\n",
      "  warnings.warn('DEPRECATION WARNING: to improve load times, gym no longer automatically loads gym.spaces. Please run \"import gym.spaces\" to load gym.spaces on your own. This warning will turn into an error in a future version of gym.')\n"
     ]
    },
    {
     "ename": "TypeError",
     "evalue": "int() argument must be a string, a bytes-like object or a number, not 'Discrete'",
     "output_type": "error",
     "traceback": [
      "\u001b[1;31m---------------------------------------------------------------------------\u001b[0m",
      "\u001b[1;31mTypeError\u001b[0m                                 Traceback (most recent call last)",
      "\u001b[1;32m<ipython-input-19-3f0c5f2ff943>\u001b[0m in \u001b[0;36m<module>\u001b[1;34m()\u001b[0m\n\u001b[0;32m      4\u001b[0m \u001b[0mprint\u001b[0m \u001b[1;33m(\u001b[0m\u001b[0menv\u001b[0m\u001b[1;33m.\u001b[0m\u001b[0maction_space\u001b[0m\u001b[1;33m)\u001b[0m\u001b[1;33m\u001b[0m\u001b[0m\n\u001b[0;32m      5\u001b[0m \u001b[0ma_nums\u001b[0m\u001b[1;33m=\u001b[0m\u001b[0menv\u001b[0m\u001b[1;33m.\u001b[0m\u001b[0maction_space\u001b[0m\u001b[1;33m\u001b[0m\u001b[0m\n\u001b[1;32m----> 6\u001b[1;33m \u001b[0mprint\u001b[0m \u001b[1;33m(\u001b[0m\u001b[0mint\u001b[0m\u001b[1;33m(\u001b[0m\u001b[0ma_nums\u001b[0m\u001b[1;33m)\u001b[0m\u001b[1;33m)\u001b[0m\u001b[1;33m\u001b[0m\u001b[0m\n\u001b[0m\u001b[0;32m      7\u001b[0m \u001b[0mimg\u001b[0m\u001b[1;33m=\u001b[0m\u001b[0menv\u001b[0m\u001b[1;33m.\u001b[0m\u001b[0mreset\u001b[0m\u001b[1;33m(\u001b[0m\u001b[1;33m)\u001b[0m\u001b[1;33m\u001b[0m\u001b[0m\n\u001b[0;32m      8\u001b[0m \u001b[1;32mfor\u001b[0m \u001b[0mi\u001b[0m \u001b[1;32min\u001b[0m \u001b[0mnp\u001b[0m\u001b[1;33m.\u001b[0m\u001b[0marange\u001b[0m\u001b[1;33m(\u001b[0m\u001b[1;36m100\u001b[0m\u001b[1;33m)\u001b[0m\u001b[1;33m:\u001b[0m\u001b[1;33m\u001b[0m\u001b[0m\n",
      "\u001b[1;31mTypeError\u001b[0m: int() argument must be a string, a bytes-like object or a number, not 'Discrete'"
     ]
    }
   ],
   "source": [
    "# # convert_to_grayscale=True,crop=True,valid_Y=[0,-1],valid_X=[0,-1],resize=False,resize_Y=None,resize_X=None\n",
    "# env=Env('SpaceInvaders-v0',convert_to_grayscale=True,crop=True,valid_Y=[20,-10],valid_X=[10,-10],resize=False,resize_Y=140,resize_X=100)\n",
    "# print (env.image_shape)\n",
    "# print (env.action_space)\n",
    "# a_nums=env.action_space\n",
    "# print (int(a_nums))\n",
    "# img=env.reset()\n",
    "# for i in np.arange(100):\n",
    "#     env.render()\n",
    "#     ns,r,d,i=env.step(2)\n",
    "#     if d:\n",
    "#         env.reset()\n",
    "# env.close()\n",
    "# cv2.destroyAllWindows()\n",
    "     "
   ]
  },
  {
   "cell_type": "code",
   "execution_count": null,
   "metadata": {},
   "outputs": [],
   "source": []
  }
 ],
 "metadata": {
  "kernelspec": {
   "display_name": "Python 3",
   "language": "python",
   "name": "python3"
  },
  "language_info": {
   "codemirror_mode": {
    "name": "ipython",
    "version": 3
   },
   "file_extension": ".py",
   "mimetype": "text/x-python",
   "name": "python",
   "nbconvert_exporter": "python",
   "pygments_lexer": "ipython3",
   "version": "3.6.5"
  }
 },
 "nbformat": 4,
 "nbformat_minor": 2
}
