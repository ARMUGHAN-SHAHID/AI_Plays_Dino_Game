{
 "cells": [
  {
   "cell_type": "code",
   "execution_count": 13,
   "metadata": {},
   "outputs": [],
   "source": [
    "import numpy as np\n",
    "import tensorflow as tf\n",
    "import matplotlib.pyplot as plt\n",
    "import pickle\n",
    "import os"
   ]
  },
  {
   "cell_type": "code",
   "execution_count": 52,
   "metadata": {},
   "outputs": [],
   "source": [
    "class Params():#used to store parameter values\n",
    "    def __init__(self,params):\n",
    "        #STORING PARAMETER VALUES \n",
    "        self.input_shape=params['input_shape']\n",
    "        self.num_outputs=params['num_outputs']\n",
    "        self.layer_hierarchy=params['layer_hierarchy']\n",
    "        self.activation_fn=params.get('activation_fn',tf.nn.relu)\n",
    "        self.loss_fn=params.get('loss_fn',tf.losses.softmax_cross_entropy)\n",
    "        self.learning_rate=params['learning_rate']\n",
    "        self.optimizer_fn=params['optimizer_fn']\n",
    "        self.initializer_fn=params['initializer_fn']\n",
    "        self.name_scope=params['name_scope']\n",
    "        logdir=params['logdir']"
   ]
  },
  {
   "cell_type": "code",
   "execution_count": 59,
   "metadata": {},
   "outputs": [],
   "source": [
    "class CNN_Model():\n",
    "    def __init__(self,param_dict):\n",
    "        #STORING PARAMETER VALUES \n",
    "        self.params=Params(param_dict)\n",
    "\n",
    "    def form_placeholder(self,shape,dt=tf.float32):\n",
    "        X=tf.placeholder(dt,shape=shape)\n",
    "        return X\n",
    "    def form_convolutional_layer(self,inputs,layer_params):\n",
    "        return tf.layers.conv2d(\n",
    "                    inputs=inputs,\n",
    "                    filters=layer_params['num_filters'],\n",
    "                    kernel_size=layer_params['kernel_size'],\n",
    "                    strides=layer_params['kernel_strides'],\n",
    "                    padding=layer_params['padding'],\n",
    "                    kernel_initializer=self.params.initializer_fn(),\n",
    "                    activation=None)\n",
    "    def form_max_pooling_layer(self,inputs,layer_params):\n",
    "        tf.layers.max_pooling2d(\n",
    "                    inputs=inputs,\n",
    "                    pool_size=layer_params['pool_size'],\n",
    "                    strides=layer_params['pool_strides'])\n",
    "    def form_activation_layer(self,inputs):\n",
    "        return self.params.activation_fn(inputs)\n",
    "    \n",
    "    def form_fc_layer(self,inputs,layer_params):\n",
    "        return tf.layers.dense(inputs,layer_params['num_hidden_units'],activation=None,kernel_initializer=self.params.initializer_fn())\n",
    "    \n",
    "    def form_loss(self,logits,targets):\n",
    "        entropies=self.params.loss_fn(onehot_labels=targets,logits=logits)\n",
    "        return entropies\n",
    "    \n",
    "    def build_model(self):\n",
    "        with tf.name_scope(self.params.name_scope):\n",
    "            self.X=self.form_placeholder(self.params.input_shape)\n",
    "            self.Y=self.form_placeholder((None,self.params.num_outputs),tf.int32)\n",
    "            inputs=self.X\n",
    "            for layer_params in self.params.layer_hierarchy:\n",
    "                if layer_params['layer_type']=='conv_layer':\n",
    "                    inputs=self.form_convolutional_layer(inputs,layer_params)\n",
    "                elif layer_params['layer_type']=='fc_layer':\n",
    "                    inputs=self.form_fc_layer(inputs,layer_params)\n",
    "                elif layer_params['layer_type']=='activation_layer':\n",
    "                    inputs=self.form_activation_layer(inputs)\n",
    "                elif layer_params['layer_type']=='pooling_layer':\n",
    "                    inputs=self.form_max_pooling_layer(inputs,layer_params)\n",
    "                elif layer_params['layer_type']=='flattening_layer':\n",
    "                    inputs=tf.contrib.layers.flatten(inputs)\n",
    "\n",
    "    #         making logits layer (final output layer)\n",
    "            self.logits=tf.layers.dense(inputs,self.params.num_outputs,activation=None,kernel_initializer=self.params.initializer_fn())\n",
    "\n",
    "            self.loss=self.form_loss(self.logits,self.Y)\n",
    "            optimizer=self.params.optimizer_fn(learning_rate=self.params.learning_rate)\n",
    "            self.train_op=optimizer.minimize(loss = self.loss)\n",
    "            self.saver=tf.train.Saver(max_to_keep=4)\n",
    "            self.initializer=tf.global_variables_initializer()\n",
    "    def save_model(self,sess,savedir=\"/\",step=0):\n",
    "        savedir=os.path.join(os.getcwd(),savedir)\n",
    "        if not hasattr(self,'saved_before'):#calling save model for the first time\n",
    "            if not os.path.isdir(savedir):#creating directory if not exists\n",
    "                try:  \n",
    "                    os.makedirs(savedir)\n",
    "                except OSError:\n",
    "                    print ('failed to make the specified_directory.Returning...')\n",
    "                    return\n",
    "            file_pi = open(savedir+\"\\\\\"+self.params.name_scope+\".pkl\", 'wb+') #saving object\n",
    "            pickle.dump(self.params, file_pi)\n",
    "            #saving tensorflow graph and weight values\n",
    "            self.saver.save(sess,savedir+\"\\\\\"+self.params.name_scope+\".ckpt\", global_step=step)\n",
    "            self.saved_before=True\n",
    "        else:\n",
    "            self.saver.save(sess,savedir+\"\\\\\"+self.params.name_scope+\".ckpt\", global_step=step,,write_meta_graph=False)#writes meta graph for the first time save_model is called\n",
    "            \n",
    "    def restore_model(self,sess,restore_dir):\n",
    "        self.saver.restore(sess, tf.train.latest_checkpoint(restore_dir))#loading latest model\n"
   ]
  },
  {
   "cell_type": "code",
   "execution_count": 60,
   "metadata": {},
   "outputs": [],
   "source": [
    "params={\n",
    "    'input_shape':[None, 190, 35, 1],\n",
    "    'num_outputs':3,\n",
    "    \n",
    "    'layer_hierarchy':[\n",
    "        {'layer_type':'conv_layer','kernel_size':3,'kernel_strides':1,'num_filters':5,'padding':'valid'},\n",
    "        {'layer_type':'activation_layer'},\n",
    "        {'layer_type':'conv_layer','kernel_size':3,'kernel_strides':1,'num_filters':5,'padding':'valid'},\n",
    "        {'layer_type':'activation_layer'},\n",
    "        {'layer_type':'flattening_layer'},\n",
    "        {'layer_type':'fc_layer','num_hidden_units':100},\n",
    "        {'layer_type':'activation_layer'},\n",
    "        {'layer_type':'fc_layer','num_hidden_units':100},\n",
    "        {'layer_type':'activation_layer'},\n",
    "        \n",
    "    ],\n",
    "    'initializer_fn':tf.contrib.layers.variance_scaling_initializer,\n",
    "    'activation_fn':tf.nn.relu,\n",
    "    'loss_fn':tf.losses.softmax_cross_entropy,\n",
    "    'learning_rate':0.001,\n",
    "    'optimizer_fn':tf.train.AdamOptimizer,\n",
    "    'logdir':'/tf_logs_rnn/run/',\n",
    "    'name_scope':'neural_network_v1'\n",
    "}"
   ]
  },
  {
   "cell_type": "code",
   "execution_count": 62,
   "metadata": {},
   "outputs": [],
   "source": [
    "#testing model\n",
    "tf.reset_default_graph()\n",
    "model=CNN_Model(params)\n",
    "model.build_model()\n",
    "with tf.Session() as sess:\n",
    "    sess.run(model.initializer)\n",
    "    model.save_model(sess,\"1st_try\")"
   ]
  },
  {
   "cell_type": "code",
   "execution_count": 23,
   "metadata": {},
   "outputs": [
    {
     "ename": "SyntaxError",
     "evalue": "invalid syntax (<ipython-input-23-3ebe8de82f60>, line 9)",
     "output_type": "error",
     "traceback": [
      "\u001b[1;36m  File \u001b[1;32m\"<ipython-input-23-3ebe8de82f60>\"\u001b[1;36m, line \u001b[1;32m9\u001b[0m\n\u001b[1;33m    print (training_data[][0])\u001b[0m\n\u001b[1;37m                         ^\u001b[0m\n\u001b[1;31mSyntaxError\u001b[0m\u001b[1;31m:\u001b[0m invalid syntax\n"
     ]
    }
   ],
   "source": [
    "n_iter = 20\n",
    "batch_size = 120\n",
    "fileName = 'training_data.npy'\n",
    "training_data = list(np.load(fileName))\n",
    "\n",
    "\n",
    "totalFrames = len(training_data)\n",
    "\n",
    "print (training_data[][0])\n",
    "\n",
    "# with tf.Session() as sess:\n",
    "#     model=CNN_Model(params)\n",
    "#     for iteration in range(n_iter):\n",
    "#         print ('current iteration '+str(iteration))\n",
    "#         feed_dic = {train}"
   ]
  },
  {
   "cell_type": "code",
   "execution_count": null,
   "metadata": {},
   "outputs": [],
   "source": []
  }
 ],
 "metadata": {
  "kernelspec": {
   "display_name": "Python 3",
   "language": "python",
   "name": "python3"
  },
  "language_info": {
   "codemirror_mode": {
    "name": "ipython",
    "version": 3
   },
   "file_extension": ".py",
   "mimetype": "text/x-python",
   "name": "python",
   "nbconvert_exporter": "python",
   "pygments_lexer": "ipython3",
   "version": "3.6.5"
  }
 },
 "nbformat": 4,
 "nbformat_minor": 2
}
