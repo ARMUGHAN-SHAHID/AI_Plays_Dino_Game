{
 "cells": [
  {
   "cell_type": "code",
   "execution_count": 21,
   "metadata": {},
   "outputs": [
    {
     "name": "stderr",
     "output_type": "stream",
     "text": [
      "C:\\Users\\Armughan.Shahid\\AppData\\Local\\Continuum\\anaconda3\\lib\\site-packages\\sklearn\\cross_validation.py:41: DeprecationWarning: This module was deprecated in version 0.18 in favor of the model_selection module into which all the refactored classes and functions are moved. Also note that the interface of the new CV iterators are different from that of this module. This module will be removed in 0.20.\n",
      "  \"This module will be removed in 0.20.\", DeprecationWarning)\n"
     ]
    }
   ],
   "source": [
    "import numpy as np\n",
    "import os\n",
    "from sklearn.cross_validation import train_test_split"
   ]
  },
  {
   "cell_type": "code",
   "execution_count": 69,
   "metadata": {},
   "outputs": [],
   "source": [
    "class Data():\n",
    "    \n",
    "    def __init__(self,data_path,batch_size=120):\n",
    "        if batch_size>10:\n",
    "            self.batch_size=batch_size\n",
    "        if os.path.exists(data_path):\n",
    "            self.load_data(data_path)\n",
    "            \n",
    "        elif os.path.exists(os.path.join(os.getcwd(),data_path)):\n",
    "            self.load_data(os.path.join(os.getcwd(),data_path))\n",
    "        else:\n",
    "            print (\"no such file exists...Returning without loading any Data\")\n",
    "        \n",
    "    \n",
    "    def load_data(self,data_path,train_proportion=None):\n",
    "        self.data_path=data_path\n",
    "        data=np.load(self.data_path)\n",
    "        self.data_size=len(data)\n",
    "        X,Y=np.expand_dims(data[0][0],axis=0),np.expand_dims(np.array(data[0][1]),axis=0) #expanding dims \n",
    "#         print (Y.shape)\n",
    "        for i in np.arange(1,self.data_size):\n",
    "            X=np.concatenate((X,np.array([data[i][0]])),axis=0)\n",
    "            Y=np.concatenate((Y,np.array([data[i][1]])),axis=0)\n",
    "#         print (Y.shape)  \n",
    "        X=np.expand_dims(X,axis=3)#because current data only 2d\n",
    "        self.X_train,self.X_test,self.Y_train,self.Y_test=train_test_split(X,Y,train_size=train_proportion)\n",
    "        X,Y=None,None\n",
    "        \n",
    "    def get_next_batch(self):\n",
    "        train_size=self.X_train.shape[0]\n",
    "        num_batches=int(train_size/self.batch_size)\n",
    "        inds=np.arange(train_size)\n",
    "        np.random.shuffle(inds)\n",
    "        X_train,Y_train=self.X_train[inds],self.Y_train[inds]\n",
    "        for i in np.arange(num_batches):\n",
    "            yield X_train[(i*self.batch_size):(i*self.batch_size)+self.batch_size],Y_train[(i*self.batch_size):(i*self.batch_size)+self.batch_size]"
   ]
  },
  {
   "cell_type": "code",
   "execution_count": 70,
   "metadata": {},
   "outputs": [
    {
     "data": {
      "text/plain": [
       "'training_data.npy'"
      ]
     },
     "execution_count": 70,
     "metadata": {},
     "output_type": "execute_result"
    }
   ],
   "source": [
    "data=Data(\"training_data.npy\",12)\n",
    "data.data_path"
   ]
  },
  {
   "cell_type": "code",
   "execution_count": 71,
   "metadata": {},
   "outputs": [
    {
     "name": "stdout",
     "output_type": "stream",
     "text": [
      "(37, 35, 190, 1)\n",
      "(37, 3)\n",
      "[[0 0 1]\n",
      " [0 0 1]\n",
      " [0 0 1]\n",
      " [0 0 1]\n",
      " [0 0 1]\n",
      " [1 0 0]\n",
      " [0 0 1]\n",
      " [0 0 1]\n",
      " [0 0 1]\n",
      " [0 0 1]\n",
      " [0 0 1]\n",
      " [0 0 1]]\n"
     ]
    }
   ],
   "source": [
    "for x,y in (data.get_next_batch()):\n",
    "#     print (x)\n",
    "    print (y)\n",
    "    break"
   ]
  },
  {
   "cell_type": "code",
   "execution_count": 8,
   "metadata": {},
   "outputs": [],
   "source": [
    "def get_next_batch():\n",
    "    a=np.arange(5)\n",
    "    b=np.arange(5,10)\n",
    "    for i,j in zip(a,b):\n",
    "        yield i,j\n",
    "        "
   ]
  }
 ],
 "metadata": {
  "kernelspec": {
   "display_name": "Python 3",
   "language": "python",
   "name": "python3"
  },
  "language_info": {
   "codemirror_mode": {
    "name": "ipython",
    "version": 3
   },
   "file_extension": ".py",
   "mimetype": "text/x-python",
   "name": "python",
   "nbconvert_exporter": "python",
   "pygments_lexer": "ipython3",
   "version": "3.6.5"
  }
 },
 "nbformat": 4,
 "nbformat_minor": 2
}
